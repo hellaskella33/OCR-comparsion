{
 "cells": [
  {
   "cell_type": "markdown",
   "metadata": {},
   "source": [
    "# Engines to test:\n",
    "### 1. Tesseract\n",
    "### 2. PaddleOCR\n",
    "### 3. EasyOCR\n",
    "\n",
    "## Dataset:\n",
    "\n",
    "https://guillaumejaume.github.io/FUNSD/"
   ]
  },
  {
   "cell_type": "code",
   "execution_count": null,
   "metadata": {},
   "outputs": [
    {
     "ename": "",
     "evalue": "",
     "output_type": "error",
     "traceback": [
      "\u001b[1;31mRunning cells with '.venv (Python 3.9.5)' requires the ipykernel package.\n",
      "\u001b[1;31mRun the following command to install 'ipykernel' into the Python environment. \n",
      "\u001b[1;31mCommand: 'f:/projects/OCR-comparsion/.venv/Scripts/python.exe -m pip install ipykernel -U --force-reinstall'"
     ]
    }
   ],
   "source": [
    "import os\n",
    "import json\n",
    "import pandas as pd\n",
    "import cv2\n",
    "import matplotlib.pyplot as plt\n",
    "\n",
    "annotations_folder = ''\n",
    "images_folder = ''\n",
    "\n",
    "data = []\n",
    "\n",
    "for filename in os.listdir(annotations_folder):\n",
    "    if filename.endswith('.json'):\n",
    "        with open(os.path.join(annotations_folder, filename), 'r') as file:\n",
    "            annotation_data = json.load(file)\n",
    "            image_filename = filename.split('.')[0] + '.png'\n",
    "            text = \"\"\n",
    "            for item in annotation_data['form']:\n",
    "                text += item['text'] + \" \"\n",
    "\n",
    "            data.append({'filename': image_filename, 'text': text.strip()})\n",
    "\n",
    "df = pd.DataFrame(data)\n",
    "\n",
    "df.head()"
   ]
  }
 ],
 "metadata": {
  "kernelspec": {
   "display_name": ".venv",
   "language": "python",
   "name": "python3"
  },
  "language_info": {
   "name": "python",
   "version": "3.9.5"
  }
 },
 "nbformat": 4,
 "nbformat_minor": 2
}
